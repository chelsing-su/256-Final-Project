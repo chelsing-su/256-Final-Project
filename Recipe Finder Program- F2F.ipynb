{
 "cells": [
  {
   "cell_type": "code",
   "execution_count": 1,
   "metadata": {},
   "outputs": [
    {
     "name": "stdout",
     "output_type": "stream",
     "text": [
      "What kind of food are you looking for?\n",
      " For top rated, enter R, and for trending enter T: t\n",
      "Please enter either a specific dish you have in mind or whatever ingredients you would like to cook with: \n",
      "(Note- please separate ingredients with commas for best results.)chicken\n",
      "Here is are trending results for chicken\n"
     ]
    },
    {
     "ename": "TypeError",
     "evalue": "'module' object is not callable",
     "output_type": "error",
     "traceback": [
      "\u001b[0;31m---------------------------------------------------------------------------\u001b[0m",
      "\u001b[0;31mTypeError\u001b[0m                                 Traceback (most recent call last)",
      "\u001b[0;32m<ipython-input-1-05ca615370b9>\u001b[0m in \u001b[0;36m<module>\u001b[0;34m()\u001b[0m\n\u001b[1;32m     24\u001b[0m \u001b[0;32mif\u001b[0m \u001b[0msort_pref\u001b[0m\u001b[0;34m.\u001b[0m\u001b[0mcapitalize\u001b[0m\u001b[0;34m(\u001b[0m\u001b[0;34m)\u001b[0m \u001b[0;34m==\u001b[0m \u001b[0;34m'T'\u001b[0m\u001b[0;34m:\u001b[0m\u001b[0;34m\u001b[0m\u001b[0m\n\u001b[1;32m     25\u001b[0m     \u001b[0mprint\u001b[0m\u001b[0;34m(\u001b[0m\u001b[0;34m'Here is are trending results for %s'\u001b[0m \u001b[0;34m%\u001b[0m \u001b[0mquery\u001b[0m\u001b[0;34m)\u001b[0m\u001b[0;34m\u001b[0m\u001b[0m\n\u001b[0;32m---> 26\u001b[0;31m     \u001b[0mdisplay\u001b[0m\u001b[0;34m(\u001b[0m\u001b[0mdish\u001b[0m\u001b[0;34m.\u001b[0m\u001b[0msample\u001b[0m\u001b[0;34m(\u001b[0m\u001b[0;36m5\u001b[0m\u001b[0;34m)\u001b[0m\u001b[0;34m)\u001b[0m\u001b[0;34m\u001b[0m\u001b[0m\n\u001b[0m\u001b[1;32m     27\u001b[0m \u001b[0;32melif\u001b[0m \u001b[0msort_pref\u001b[0m\u001b[0;34m.\u001b[0m\u001b[0mcapitalize\u001b[0m\u001b[0;34m(\u001b[0m\u001b[0;34m)\u001b[0m \u001b[0;34m==\u001b[0m \u001b[0;34m'R'\u001b[0m\u001b[0;34m:\u001b[0m\u001b[0;34m\u001b[0m\u001b[0m\n\u001b[1;32m     28\u001b[0m     \u001b[0mprint\u001b[0m\u001b[0;34m(\u001b[0m\u001b[0;34m'Here are the top-rated results for %s'\u001b[0m \u001b[0;34m%\u001b[0m \u001b[0mquery\u001b[0m\u001b[0;34m)\u001b[0m\u001b[0;34m\u001b[0m\u001b[0m\n",
      "\u001b[0;31mTypeError\u001b[0m: 'module' object is not callable"
     ]
    }
   ],
   "source": [
    "## creates dataframe of recipes\n",
    "import IPython.display as display\n",
    "import requests\n",
    "import json\n",
    "import pandas as pd\n",
    "\n",
    "sort_pref = str(input('What kind of food are you looking for?\\n For top rated, enter R, and for trending enter T: '))\n",
    "\n",
    "f2fKey = '4a162fcef2f2eafa51df3dc04ae96d71'\n",
    "query = str(input('Please enter either a specific dish you have in mind or whatever ingredients you would like to cook with: \\n(Note- please separate ingredients with commas for best results.)'))\n",
    "search_url = 'http://food2fork.com/api/search?key=%s&q=%s&sort=%s' % (f2fKey, query, sort_pref.capitalize())\n",
    "\n",
    "\n",
    "search_response = requests.get(search_url)\n",
    "search_results = search_response.json()\n",
    "\n",
    "# search_results\n",
    "search_results_df = pd.DataFrame(search_results['recipes'])\n",
    "search_results_df\n",
    "# recipe_titles = search_results_df['title'], search_results_df['recipe_id']\n",
    "# recipe_id_df = search_results_df[['recipe_id']]\n",
    "# recipe_id_df\n",
    "dish = search_results_df[['title', 'recipe_id']]\n",
    "if sort_pref.capitalize() == 'T':\n",
    "    print('Here is are trending results for %s' % query)\n",
    "    display(dish.sample(5))\n",
    "elif sort_pref.capitalize() == 'R':\n",
    "    print('Here are the top-rated results for %s' % query)\n",
    "    display(dish.sample(5))"
   ]
  },
  {
   "cell_type": "markdown",
   "metadata": {},
   "source": [
    "To-Do:\n",
    "\n",
    "- Navigate results by page"
   ]
  },
  {
   "cell_type": "code",
   "execution_count": null,
   "metadata": {},
   "outputs": [],
   "source": []
  },
  {
   "cell_type": "code",
   "execution_count": null,
   "metadata": {},
   "outputs": [],
   "source": [
    "### choose a recipe ID to see its ingredients\n",
    "\n",
    "recipe_id = str(input('Please input the recipe ID of the dish you would like: '))\n",
    "recipe_url = 'http://food2fork.com/api/get?key=%s&rId=%s' % (f2fKey, recipe_id)\n",
    "recipe_response = requests.get(recipe_url)\n",
    "# recipe_response.ok\n",
    "meals = recipe_response.json()\n",
    "ingredients = meals['recipe']['ingredients']\n",
    "\n",
    "\n",
    "\n",
    "#fruits = pd.Series(['Apple', 'Banana', 'Cherry', 'Orange'], name = \"Fruit\")\n",
    "#fruits\n",
    "ingr_series = pd.Series(ingredients, name = 'Ingredients')\n",
    "ingr_df = pd.DataFrame(ingr_series)\n",
    "ingr_df"
   ]
  },
  {
   "cell_type": "markdown",
   "metadata": {},
   "source": [
    "To-Do:\n",
    "\n",
    "- Ask if user would like to save this recipe\n",
    "- Add dictionary for saved recipes\n",
    "    - "
   ]
  },
  {
   "cell_type": "code",
   "execution_count": null,
   "metadata": {},
   "outputs": [],
   "source": [
    "# bookmark recipes\n",
    "saved_recipes = []\n",
    "\n",
    "save_query = input('Would you like to save this recipe?\\n Please enter Y or N: ')\n",
    "if save_query.capitalize == 'Y':\n",
    "    saved_recipes.append(recipe_id)\n",
    "else:\n",
    "    print('Hope I was of help!')\n",
    "    \n",
    "view_saved = input('Would you like to view your saved recipes?\\n Please enter Y or N: ')\n",
    "if view_saved.capitalize() == 'Y':\n",
    "    print(saved_recipes)\n",
    "else:\n",
    "    print('Ok')"
   ]
  },
  {
   "cell_type": "code",
   "execution_count": null,
   "metadata": {},
   "outputs": [],
   "source": [
    "saved_recipes"
   ]
  },
  {
   "cell_type": "code",
   "execution_count": null,
   "metadata": {},
   "outputs": [],
   "source": []
  }
 ],
 "metadata": {
  "kernelspec": {
   "display_name": "Python 3",
   "language": "python",
   "name": "python3"
  },
  "language_info": {
   "codemirror_mode": {
    "name": "ipython",
    "version": 3
   },
   "file_extension": ".py",
   "mimetype": "text/x-python",
   "name": "python",
   "nbconvert_exporter": "python",
   "pygments_lexer": "ipython3",
   "version": "3.6.3"
  }
 },
 "nbformat": 4,
 "nbformat_minor": 2
}
