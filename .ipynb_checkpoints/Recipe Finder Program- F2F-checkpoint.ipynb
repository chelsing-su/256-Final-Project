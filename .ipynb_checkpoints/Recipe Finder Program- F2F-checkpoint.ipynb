{
 "cells": [
  {
   "cell_type": "code",
   "execution_count": null,
   "metadata": {},
   "outputs": [],
   "source": [
    "from IPython.display import display\n",
    "import requests\n",
    "import json\n",
    "import pandas as pd\n",
    "\n",
    "\n",
    "\n",
    "# before the actual query, ask how how the user would like their results filtered\n",
    "sort_pref = str(input('What kind of food are you looking for?\\nFor top rated enter R, and for trending enter T: '))\n",
    "\n",
    "# establish while loop to allow a user to make multiple searches\n",
    "while True:\n",
    "    \n",
    "# enter search query, call search API\n",
    "    f2fKey = '4a162fcef2f2eafa51df3dc04ae96d71'\n",
    "    page = '1'\n",
    "    query = str(input('Please enter either a specific dish you have in mind or whatever ingredients you would like to cook with:\\n(Note- please separate ingredients with commas for best results.)'))\n",
    "    search_url = 'http://food2fork.com/api/search?key=%s&q=%s&sort=%s&page=%s' % (f2fKey, query, sort_pref.capitalize(), page)\n",
    "\n",
    "    search_response = requests.get(search_url)\n",
    "    search_results = search_response.json()\n",
    "    search_results_df = pd.DataFrame(search_results['recipes'])\n",
    "\n",
    "# display query results in a dataframe\n",
    "    dish = search_results_df[['title', 'recipe_id']]\n",
    "    if sort_pref.capitalize() == 'T':\n",
    "        print('Here are the trending results for %s' % query)\n",
    "        display(dish)\n",
    "    elif sort_pref.capitalize() == 'R':\n",
    "        print('Here are the top-rated results for %s: ' % query)\n",
    "        display(dish)\n",
    "        \n",
    "# navigate pages\n",
    "    navigate_pages = input('Would you like to see more results?\\nPlease answer Y or N:')\n",
    "    if navigate_pages.capitalize() == 'Y':\n",
    "        page = '2'\n",
    "        search_url = 'http://food2fork.com/api/search?key=%s&q=%s&sort=%s&page=%s' % (f2fKey, query, sort_pref.capitalize(), page)\n",
    "        search_response = requests.get(search_url)\n",
    "        search_results = search_response.json()\n",
    "        search_results_df = pd.DataFrame(search_results['recipes'])\n",
    "        dish = search_results_df[['title', 'recipe_id']]\n",
    "        display(dish)\n",
    "    else:\n",
    "        continue\n",
    "\n",
    "# enter recipe ID to call recipe API\n",
    "    while True:\n",
    "        recipe_id = str(input('Please input the recipe ID of the dish you would like: '))\n",
    "        recipe_url = 'http://food2fork.com/api/get?key=%s&rId=%s' % (f2fKey, recipe_id)\n",
    "        recipe_response = requests.get(recipe_url)\n",
    "\n",
    "        meals = recipe_response.json()\n",
    "        ingredients = meals['recipe']['ingredients']\n",
    "\n",
    "# place returned list of ingredients in a dataframe\n",
    "        ingr_series = pd.Series(ingredients, name = 'Ingredients')\n",
    "        ingr_df = pd.DataFrame(ingr_series)\n",
    "\n",
    "# display dish name and recipe ID and ingredients\n",
    "        display(dish[ dish['recipe_id'] == recipe_id])\n",
    "        display(ingr_df)\n",
    "    \n",
    "        try_diff_id = input('Would you like to see the ingredients for another result? Please enter Y or N: ')\n",
    "        if try_diff_id.capitalize() == 'Y':\n",
    "            continue\n",
    "        else:\n",
    "            break\n",
    "            \n",
    "        \n",
    "\n",
    "\n",
    "# ask user if they would like to search again\n",
    "    repeat_search = input('Would you like to search again? Please enter Y or N: ')\n",
    "    if repeat_search.capitalize() == 'Y':\n",
    "        continue\n",
    "    else:\n",
    "        break\n",
    "print('Enjoy!')"
   ]
  },
  {
   "cell_type": "markdown",
   "metadata": {},
   "source": [
    "### Here is the link to our Demo Day video:\n",
    "https://youtu.be/5MEKaZ-g7ac"
   ]
  },
  {
   "cell_type": "code",
   "execution_count": null,
   "metadata": {},
   "outputs": [],
   "source": [
    "Below are just some ideas that ended up "
   ]
  },
  {
   "cell_type": "markdown",
   "metadata": {},
   "source": [
    "\n",
    "def get_recipes(page):\n",
    "    f2fKey = '4a162fcef2f2eafa51df3dc04ae96d71'\n",
    "    search_url = 'http://food2fork.com/api/search?key=%s&q=%s&sort=%s&page=%s' % (f2fKey, query, sort_pref.capitalize(), page)\n",
    "    search_response = requests.get(search_url)\n",
    "    search_results = search_response.json()\n",
    "    search_results_df = pd.DataFrame(search_results['recipes'])\n",
    "    dish = search_results_df[['title', 'recipe_id']]\n",
    "    dish = search_results_df[['title', 'recipe_id']]\n",
    "    if sort_pref.capitalize() == 'T':\n",
    "        print('Here are the trending results for %s' % query)\n",
    "        display(dish)\n",
    "    elif sort_pref.capitalize() == 'R':\n",
    "        print('Here are the top-rated results for %s: ' % query)\n",
    "        display(dish)\n",
    "    return dish\n",
    "\n",
    "\n",
    "    \n",
    "    \n",
    "    "
   ]
  },
  {
   "cell_type": "markdown",
   "metadata": {},
   "source": [
    "dish_log_list = []\n",
    "\n",
    "\n",
    "dish_log_list.append(recipe_id)\n",
    "for ID in dish_log_list:\n",
    "    display(dish[ dish['recipe_id'] == recipe_id])\n",
    "    \n",
    "    \n",
    "save_query = input('Would you like to see a log of your viewed recipes?\\nPlease enter Y or N: ')\n",
    "if save_query.capitalize() == 'Y':\n",
    "    for ID in dish_log_list:\n",
    "        display(dish[ dish['recipe_id'] == recipe_id])\n",
    "else:\n",
    "    print('Ok')\n",
    "    "
   ]
  },
  {
   "cell_type": "code",
   "execution_count": null,
   "metadata": {},
   "outputs": [],
   "source": [
    "dish[ dish['recipe_id'] == '35120']"
   ]
  }
 ],
 "metadata": {
  "kernelspec": {
   "display_name": "Python 3",
   "language": "python",
   "name": "python3"
  },
  "language_info": {
   "codemirror_mode": {
    "name": "ipython",
    "version": 3
   },
   "file_extension": ".py",
   "mimetype": "text/x-python",
   "name": "python",
   "nbconvert_exporter": "python",
   "pygments_lexer": "ipython3",
   "version": "3.6.3"
  }
 },
 "nbformat": 4,
 "nbformat_minor": 2
}
